{
 "cells": [
  {
   "cell_type": "markdown",
   "id": "234b9cce-5930-46e6-8167-d61458b78e1a",
   "metadata": {},
   "source": [
    "###creating numpy/ n-d arrays"
   ]
  },
  {
   "cell_type": "code",
   "execution_count": 1,
   "id": "dcffa4f1-8878-4c02-8fde-ea040b43c034",
   "metadata": {},
   "outputs": [],
   "source": [
    "import numpy as np"
   ]
  },
  {
   "cell_type": "markdown",
   "id": "56a5ffea-fb4c-4f38-ba44-df926dafa392",
   "metadata": {
    "jp-MarkdownHeadingCollapsed": true
   },
   "source": [
    "## Creating 1-d array using array()"
   ]
  },
  {
   "cell_type": "code",
   "execution_count": null,
   "id": "33b7be82-8d7e-4f5a-a16b-edc1968568b9",
   "metadata": {},
   "outputs": [],
   "source": [
    "array = np.array([1,2,3,4,5])"
   ]
  },
  {
   "cell_type": "code",
   "execution_count": 3,
   "id": "a306e57e-5e05-4ace-a949-10fd73fc1203",
   "metadata": {},
   "outputs": [
    {
     "data": {
      "text/plain": [
       "array([1, 2, 3, 4, 5])"
      ]
     },
     "execution_count": 3,
     "metadata": {},
     "output_type": "execute_result"
    }
   ],
   "source": [
    "array"
   ]
  },
  {
   "cell_type": "code",
   "execution_count": 4,
   "id": "9f881ee8-a4eb-40dc-a36b-36f725a3d410",
   "metadata": {},
   "outputs": [
    {
     "data": {
      "text/plain": [
       "numpy.ndarray"
      ]
     },
     "execution_count": 4,
     "metadata": {},
     "output_type": "execute_result"
    }
   ],
   "source": [
    "type(array)"
   ]
  },
  {
   "cell_type": "markdown",
   "id": "3e1c80fd-9570-4ca1-900a-72afdc9d8bec",
   "metadata": {
    "jp-MarkdownHeadingCollapsed": true
   },
   "source": [
    "## creating 2-d array using array()"
   ]
  },
  {
   "cell_type": "code",
   "execution_count": 10,
   "id": "f6364f94-d1bd-49cf-81c1-54af9dfe0d70",
   "metadata": {},
   "outputs": [
    {
     "data": {
      "text/plain": [
       "array([[1, 2, 3],\n",
       "       [4, 5, 6]])"
      ]
     },
     "execution_count": 10,
     "metadata": {},
     "output_type": "execute_result"
    }
   ],
   "source": [
    "array2 = np.array([[1,2,3], [4,5,6]])\n",
    "array2"
   ]
  },
  {
   "cell_type": "code",
   "execution_count": 11,
   "id": "ee1ef1b3-1521-4f98-9f6b-d5cb6c1df725",
   "metadata": {},
   "outputs": [
    {
     "data": {
      "text/plain": [
       "numpy.ndarray"
      ]
     },
     "execution_count": 11,
     "metadata": {},
     "output_type": "execute_result"
    }
   ],
   "source": [
    "type(array2)"
   ]
  },
  {
   "cell_type": "markdown",
   "id": "f3f2906b-476b-44fb-adfc-e476e8e6f029",
   "metadata": {
    "jp-MarkdownHeadingCollapsed": true
   },
   "source": [
    "## creating numpy array using zeros()\n",
    "it will create a array of given dimension with zeros(0's) in it and datatype bydefalut is float"
   ]
  },
  {
   "cell_type": "code",
   "execution_count": 12,
   "id": "68656417-943c-483d-a155-3b17c4724a2f",
   "metadata": {},
   "outputs": [
    {
     "data": {
      "text/plain": [
       "array([[0., 0., 0.],\n",
       "       [0., 0., 0.]])"
      ]
     },
     "execution_count": 12,
     "metadata": {},
     "output_type": "execute_result"
    }
   ],
   "source": [
    "array3 = np.zeros((2,3))\n",
    "array3"
   ]
  },
  {
   "cell_type": "code",
   "execution_count": 15,
   "id": "7fec869b-9480-4895-894f-c995740ff544",
   "metadata": {},
   "outputs": [
    {
     "data": {
      "text/plain": [
       "numpy.ndarray"
      ]
     },
     "execution_count": 15,
     "metadata": {},
     "output_type": "execute_result"
    }
   ],
   "source": [
    "type(array3)"
   ]
  },
  {
   "cell_type": "markdown",
   "id": "746f4a16-98f7-4a6a-9e54-9f0740f1ef96",
   "metadata": {
    "jp-MarkdownHeadingCollapsed": true
   },
   "source": [
    "# creating numpy array using ones()\n",
    "it will create a array of given dimension with ones(1's) in it and datatype bydefalut is float"
   ]
  },
  {
   "cell_type": "code",
   "execution_count": 14,
   "id": "b6579015-f3c2-4207-919c-044aff0912e0",
   "metadata": {},
   "outputs": [
    {
     "data": {
      "text/plain": [
       "array([[1., 1.],\n",
       "       [1., 1.],\n",
       "       [1., 1.]])"
      ]
     },
     "execution_count": 14,
     "metadata": {},
     "output_type": "execute_result"
    }
   ],
   "source": [
    "array4 = np.ones((3,2))\n",
    "array4"
   ]
  },
  {
   "cell_type": "code",
   "execution_count": 16,
   "id": "5b6b6807-ee78-4a6a-940e-a069154b3efb",
   "metadata": {},
   "outputs": [
    {
     "data": {
      "text/plain": [
       "numpy.ndarray"
      ]
     },
     "execution_count": 16,
     "metadata": {},
     "output_type": "execute_result"
    }
   ],
   "source": [
    "type(array4)"
   ]
  },
  {
   "cell_type": "markdown",
   "id": "a2e7498f-721c-437a-b59c-4089e9ce9a76",
   "metadata": {
    "jp-MarkdownHeadingCollapsed": true
   },
   "source": [
    "# creating numpy n-d array using identity()\n",
    "it will create a array of given dimension with 1's inserted diagonally and datatype bydefault is float"
   ]
  },
  {
   "cell_type": "code",
   "execution_count": 19,
   "id": "19588b54-9a2e-4617-be47-12ad60891ecd",
   "metadata": {},
   "outputs": [
    {
     "data": {
      "text/plain": [
       "array([[1., 0., 0., 0., 0.],\n",
       "       [0., 1., 0., 0., 0.],\n",
       "       [0., 0., 1., 0., 0.],\n",
       "       [0., 0., 0., 1., 0.],\n",
       "       [0., 0., 0., 0., 1.]])"
      ]
     },
     "execution_count": 19,
     "metadata": {},
     "output_type": "execute_result"
    }
   ],
   "source": [
    "array5 = np.identity((5))\n",
    "array5"
   ]
  },
  {
   "cell_type": "code",
   "execution_count": 20,
   "id": "1eabd566-a506-41e8-8550-0b5cc4fb8a3f",
   "metadata": {},
   "outputs": [
    {
     "data": {
      "text/plain": [
       "numpy.ndarray"
      ]
     },
     "execution_count": 20,
     "metadata": {},
     "output_type": "execute_result"
    }
   ],
   "source": [
    "type(array5)"
   ]
  },
  {
   "cell_type": "markdown",
   "id": "39dafadd-b397-491b-853c-4cf00ae6b1b7",
   "metadata": {
    "jp-MarkdownHeadingCollapsed": true
   },
   "source": [
    "# create numpy n-d array using arange()"
   ]
  },
  {
   "cell_type": "code",
   "execution_count": 21,
   "id": "27ca76d3-c005-4a3b-b901-88f5b60f53a4",
   "metadata": {},
   "outputs": [
    {
     "data": {
      "text/plain": [
       "array([0, 1, 2, 3, 4, 5, 6, 7, 8, 9])"
      ]
     },
     "execution_count": 21,
     "metadata": {},
     "output_type": "execute_result"
    }
   ],
   "source": [
    "array6 = np.arange(10)\n",
    "array6"
   ]
  },
  {
   "cell_type": "code",
   "execution_count": 22,
   "id": "239d2fe8-ab17-4e09-97f0-2d915c583b78",
   "metadata": {},
   "outputs": [
    {
     "data": {
      "text/plain": [
       "array([0, 1, 2, 3, 4, 5, 6, 7, 8, 9])"
      ]
     },
     "execution_count": 22,
     "metadata": {},
     "output_type": "execute_result"
    }
   ],
   "source": [
    "array7 = np.arange(10)\n",
    "array7"
   ]
  },
  {
   "cell_type": "markdown",
   "id": "0c186559-4c38-4753-a1b6-0bb4dfb54322",
   "metadata": {},
   "source": [
    "# create numpy n-d array using linspace()\n",
    "it will create a array within a given range and equally linear space"
   ]
  },
  {
   "cell_type": "code",
   "execution_count": 23,
   "id": "6d42e705-8153-483b-9738-a5e14baaedd8",
   "metadata": {},
   "outputs": [
    {
     "data": {
      "text/plain": [
       "array([10.        , 11.11111111, 12.22222222, 13.33333333, 14.44444444,\n",
       "       15.55555556, 16.66666667, 17.77777778, 18.88888889, 20.        ])"
      ]
     },
     "execution_count": 23,
     "metadata": {},
     "output_type": "execute_result"
    }
   ],
   "source": [
    "array7 = np.linspace(10,20,10)\n",
    "array7"
   ]
  },
  {
   "cell_type": "code",
   "execution_count": 24,
   "id": "f4f0ffc3-68cf-4105-8ade-47ff9c19a9db",
   "metadata": {},
   "outputs": [],
   "source": [
    "array8 = array7.copy()\n",
    "# copy of array7 will inserted into array8"
   ]
  },
  {
   "cell_type": "code",
   "execution_count": 25,
   "id": "f53e30ba-6196-40fc-9668-ae1a0d6ec4a1",
   "metadata": {},
   "outputs": [
    {
     "data": {
      "text/plain": [
       "array([10.        , 11.11111111, 12.22222222, 13.33333333, 14.44444444,\n",
       "       15.55555556, 16.66666667, 17.77777778, 18.88888889, 20.        ])"
      ]
     },
     "execution_count": 25,
     "metadata": {},
     "output_type": "execute_result"
    }
   ],
   "source": [
    "array8"
   ]
  },
  {
   "cell_type": "markdown",
   "id": "1735ef46-0e59-4545-9af9-4c3da4690612",
   "metadata": {
    "jp-MarkdownHeadingCollapsed": true
   },
   "source": [
    "# numpy properties and attributes\n",
    "# 1->shape"
   ]
  },
  {
   "cell_type": "code",
   "execution_count": 27,
   "id": "6f21f013-ea10-48d1-bda3-79a35b2473a0",
   "metadata": {},
   "outputs": [
    {
     "data": {
      "text/plain": [
       "array([1, 2, 3, 4, 5])"
      ]
     },
     "execution_count": 27,
     "metadata": {},
     "output_type": "execute_result"
    }
   ],
   "source": [
    "array"
   ]
  },
  {
   "cell_type": "code",
   "execution_count": 29,
   "id": "62e8ba69-eae6-4e50-ade0-10e098037ecf",
   "metadata": {},
   "outputs": [
    {
     "data": {
      "text/plain": [
       "(5,)"
      ]
     },
     "execution_count": 29,
     "metadata": {},
     "output_type": "execute_result"
    }
   ],
   "source": [
    "array.shape"
   ]
  },
  {
   "cell_type": "code",
   "execution_count": 32,
   "id": "145df2b6-4fda-4354-b85c-fbcf8d470627",
   "metadata": {},
   "outputs": [
    {
     "data": {
      "text/plain": [
       "array([[[1, 2],\n",
       "        [3, 4]],\n",
       "\n",
       "       [[5, 6],\n",
       "        [7, 8]]])"
      ]
     },
     "execution_count": 32,
     "metadata": {},
     "output_type": "execute_result"
    }
   ],
   "source": [
    "array9 = np.array([[[1,2],[3,4]],[[5,6],[7,8]]])\n",
    "array9"
   ]
  },
  {
   "cell_type": "code",
   "execution_count": 33,
   "id": "e08575f0-6d6b-4f54-aab4-56ea9db6b355",
   "metadata": {},
   "outputs": [
    {
     "data": {
      "text/plain": [
       "(2, 2, 2)"
      ]
     },
     "execution_count": 33,
     "metadata": {},
     "output_type": "execute_result"
    }
   ],
   "source": [
    "array9.shape"
   ]
  },
  {
   "cell_type": "markdown",
   "id": "2cb71b19-da9a-4f6d-bd47-4013b551ca9d",
   "metadata": {
    "jp-MarkdownHeadingCollapsed": true
   },
   "source": [
    "# ndim \n",
    "it will tell about that which dimension matrices you have"
   ]
  },
  {
   "cell_type": "code",
   "execution_count": 34,
   "id": "842efc8b-d457-414c-b6a4-c967b6bade30",
   "metadata": {},
   "outputs": [
    {
     "data": {
      "text/plain": [
       "1"
      ]
     },
     "execution_count": 34,
     "metadata": {},
     "output_type": "execute_result"
    }
   ],
   "source": [
    "array.ndim"
   ]
  },
  {
   "cell_type": "code",
   "execution_count": 35,
   "id": "e0abb24a-2fdd-48ec-899e-d242c4ca92e5",
   "metadata": {},
   "outputs": [
    {
     "data": {
      "text/plain": [
       "3"
      ]
     },
     "execution_count": 35,
     "metadata": {},
     "output_type": "execute_result"
    }
   ],
   "source": [
    "array9.ndim"
   ]
  },
  {
   "cell_type": "code",
   "execution_count": 36,
   "id": "7b39032f-1a34-46b2-933f-7c3a61e87591",
   "metadata": {},
   "outputs": [
    {
     "data": {
      "text/plain": [
       "1"
      ]
     },
     "execution_count": 36,
     "metadata": {},
     "output_type": "execute_result"
    }
   ],
   "source": [
    "array8.ndim"
   ]
  },
  {
   "cell_type": "markdown",
   "id": "072671d9-ae1d-400f-adcd-0c32bb53f079",
   "metadata": {
    "jp-MarkdownHeadingCollapsed": true
   },
   "source": [
    "# size and itemsize\n",
    "size tells how many elements in the array and itemsize tells how many memory a element is taking to store"
   ]
  },
  {
   "cell_type": "code",
   "execution_count": 37,
   "id": "d2100bad-3540-4a9f-b790-615aa4010b04",
   "metadata": {},
   "outputs": [
    {
     "data": {
      "text/plain": [
       "10"
      ]
     },
     "execution_count": 37,
     "metadata": {},
     "output_type": "execute_result"
    }
   ],
   "source": [
    "array8.size"
   ]
  },
  {
   "cell_type": "code",
   "execution_count": 38,
   "id": "e4a1b93f-2370-4325-ab66-a43478694f91",
   "metadata": {},
   "outputs": [
    {
     "data": {
      "text/plain": [
       "8"
      ]
     },
     "execution_count": 38,
     "metadata": {},
     "output_type": "execute_result"
    }
   ],
   "source": [
    "array8.itemsize"
   ]
  },
  {
   "cell_type": "markdown",
   "id": "80703f62-b408-4103-a425-fcf436c17646",
   "metadata": {},
   "source": [
    "# dtype\n",
    "datatype"
   ]
  },
  {
   "cell_type": "code",
   "execution_count": 39,
   "id": "5c75d868-1f78-4685-83cf-0792d77f3bb8",
   "metadata": {},
   "outputs": [
    {
     "data": {
      "text/plain": [
       "dtype('float64')"
      ]
     },
     "execution_count": 39,
     "metadata": {},
     "output_type": "execute_result"
    }
   ],
   "source": [
    "array8.dtype"
   ]
  },
  {
   "cell_type": "code",
   "execution_count": 40,
   "id": "e7831ea1-a84c-43a0-8a7d-50d1eddd796e",
   "metadata": {},
   "outputs": [
    {
     "data": {
      "text/plain": [
       "dtype('int32')"
      ]
     },
     "execution_count": 40,
     "metadata": {},
     "output_type": "execute_result"
    }
   ],
   "source": [
    "array9.dtype"
   ]
  },
  {
   "cell_type": "markdown",
   "id": "11a214cd-11f0-4310-b7f2-a4e0a0291288",
   "metadata": {},
   "source": [
    "## change the datatype"
   ]
  },
  {
   "cell_type": "code",
   "execution_count": 43,
   "id": "46d42142-7d34-4f30-a1d6-c6387c5d174f",
   "metadata": {},
   "outputs": [
    {
     "data": {
      "text/plain": [
       "array([[[1., 2.],\n",
       "        [3., 4.]],\n",
       "\n",
       "       [[5., 6.],\n",
       "        [7., 8.]]])"
      ]
     },
     "execution_count": 43,
     "metadata": {},
     "output_type": "execute_result"
    }
   ],
   "source": [
    "array9.astype('float')\n"
   ]
  },
  {
   "cell_type": "markdown",
   "id": "dd6321f2-c399-4884-8d4f-9e34f8450e61",
   "metadata": {},
   "source": [
    "# numpy array vs python list\n",
    "1->faster\n",
    "2->convenient\n",
    "3->less memory"
   ]
  },
  {
   "cell_type": "markdown",
   "id": "7b1dd06d-ff85-4c7e-b356-aed54d3cd2b5",
   "metadata": {},
   "source": [
    "# 1-> less memory"
   ]
  },
  {
   "cell_type": "code",
   "execution_count": 45,
   "id": "222c272b-c012-4e3b-88d6-76a19c70810f",
   "metadata": {},
   "outputs": [],
   "source": [
    "lista = range(100)\n",
    "arrayl1 = np.arange(100)"
   ]
  },
  {
   "cell_type": "code",
   "execution_count": 46,
   "id": "9c0123e6-7b98-4caa-a3e0-644b99799ddd",
   "metadata": {},
   "outputs": [],
   "source": [
    "import sys"
   ]
  },
  {
   "cell_type": "code",
   "execution_count": 48,
   "id": "7acf55c2-2703-4b3d-8780-8d66b9019916",
   "metadata": {},
   "outputs": [
    {
     "name": "stdout",
     "output_type": "stream",
     "text": [
      "2800\n"
     ]
    }
   ],
   "source": [
    "print(sys.getsizeof(23)*len(lista))"
   ]
  },
  {
   "cell_type": "code",
   "execution_count": 50,
   "id": "c9dc893a-f5c7-4751-a11d-94566af87755",
   "metadata": {},
   "outputs": [
    {
     "name": "stdout",
     "output_type": "stream",
     "text": [
      "400\n"
     ]
    }
   ],
   "source": [
    "print(arrayl1.itemsize*arrayl1.size)"
   ]
  },
  {
   "cell_type": "markdown",
   "id": "04e9483d-ec8b-45dc-b69b-fb436f488d73",
   "metadata": {},
   "source": [
    "# 2-> time"
   ]
  },
  {
   "cell_type": "code",
   "execution_count": 51,
   "id": "0df4631f-d8bc-434b-bcdd-f9c1a5ef4feb",
   "metadata": {},
   "outputs": [],
   "source": [
    "import time"
   ]
  },
  {
   "cell_type": "code",
   "execution_count": 53,
   "id": "16b42ffb-e6d2-4835-87a3-2fe855140195",
   "metadata": {},
   "outputs": [
    {
     "name": "stdout",
     "output_type": "stream",
     "text": [
      "0.1715085506439209\n"
     ]
    }
   ],
   "source": [
    "x = range(100000)\n",
    "y = range(100000,200000)\n",
    "\n",
    "start_time = time.time()\n",
    "c = [(x,y) for x,y in zip(x,y)]\n",
    "print(time.time() - start_time)"
   ]
  },
  {
   "cell_type": "code",
   "execution_count": 54,
   "id": "3173a909-91c0-477b-ba9a-d93c37f0feec",
   "metadata": {},
   "outputs": [
    {
     "name": "stdout",
     "output_type": "stream",
     "text": [
      "0.004985809326171875\n"
     ]
    }
   ],
   "source": [
    "a = np.arange(100000)\n",
    "b = np.arange(100000,200000)\n",
    "start_time = time.time()\n",
    "c = a+b\n",
    "print(time.time() - start_time)"
   ]
  },
  {
   "cell_type": "markdown",
   "id": "3695e91d-6ad6-446a-b6b9-d342bdf02125",
   "metadata": {},
   "source": [
    "# indexing, slicing and iteration"
   ]
  },
  {
   "cell_type": "code",
   "execution_count": 55,
   "id": "3fbbd0dd-1048-4bc4-976f-64bc25801b92",
   "metadata": {},
   "outputs": [
    {
     "data": {
      "text/plain": [
       "array([[ 0,  1,  2,  3],\n",
       "       [ 4,  5,  6,  7],\n",
       "       [ 8,  9, 10, 11],\n",
       "       [12, 13, 14, 15],\n",
       "       [16, 17, 18, 19],\n",
       "       [20, 21, 22, 23]])"
      ]
     },
     "execution_count": 55,
     "metadata": {},
     "output_type": "execute_result"
    }
   ],
   "source": [
    "arr12 = np.arange(24).reshape(6,4)\n",
    "arr12"
   ]
  },
  {
   "cell_type": "code",
   "execution_count": 56,
   "id": "dcbaf01a-4759-448a-b5ef-ed2b682a8aee",
   "metadata": {},
   "outputs": [
    {
     "data": {
      "text/plain": [
       "array([ 8,  9, 10, 11])"
      ]
     },
     "execution_count": 56,
     "metadata": {},
     "output_type": "execute_result"
    }
   ],
   "source": [
    "arr12[2]"
   ]
  },
  {
   "cell_type": "code",
   "execution_count": 63,
   "id": "ef4e3295-139e-465d-838a-98669118b512",
   "metadata": {},
   "outputs": [
    {
     "data": {
      "text/plain": [
       "array([ 2,  6, 10, 14, 18, 22])"
      ]
     },
     "execution_count": 63,
     "metadata": {},
     "output_type": "execute_result"
    }
   ],
   "source": [
    "arr12[:,2]"
   ]
  },
  {
   "cell_type": "code",
   "execution_count": 64,
   "id": "5801884e-fe2f-443c-8d6a-6a2bf3acef7d",
   "metadata": {},
   "outputs": [
    {
     "data": {
      "text/plain": [
       "array([[ 1,  2],\n",
       "       [ 5,  6],\n",
       "       [ 9, 10],\n",
       "       [13, 14],\n",
       "       [17, 18],\n",
       "       [21, 22]])"
      ]
     },
     "execution_count": 64,
     "metadata": {},
     "output_type": "execute_result"
    }
   ],
   "source": [
    "arr12[:,1:3]"
   ]
  },
  {
   "cell_type": "code",
   "execution_count": 65,
   "id": "5f074321-dabc-4275-a886-f1680019b67f",
   "metadata": {},
   "outputs": [
    {
     "data": {
      "text/plain": [
       "array([[ 9, 10],\n",
       "       [13, 14]])"
      ]
     },
     "execution_count": 65,
     "metadata": {},
     "output_type": "execute_result"
    }
   ],
   "source": [
    "arr12[2:4,1:3]"
   ]
  },
  {
   "cell_type": "code",
   "execution_count": 66,
   "id": "68ade6cb-f357-4463-9c2f-f21e739cee80",
   "metadata": {},
   "outputs": [
    {
     "name": "stdout",
     "output_type": "stream",
     "text": [
      "[0 1 2 3]\n",
      "[4 5 6 7]\n",
      "[ 8  9 10 11]\n",
      "[12 13 14 15]\n",
      "[16 17 18 19]\n",
      "[20 21 22 23]\n"
     ]
    }
   ],
   "source": [
    "for i in arr12:\n",
    "    print(i)"
   ]
  },
  {
   "cell_type": "code",
   "execution_count": 67,
   "id": "1b9ad955-084b-4ae8-a945-88d60e5d97e9",
   "metadata": {},
   "outputs": [
    {
     "name": "stdout",
     "output_type": "stream",
     "text": [
      "0\n",
      "1\n",
      "2\n",
      "3\n",
      "4\n",
      "5\n",
      "6\n",
      "7\n",
      "8\n",
      "9\n",
      "10\n",
      "11\n",
      "12\n",
      "13\n",
      "14\n",
      "15\n",
      "16\n",
      "17\n",
      "18\n",
      "19\n",
      "20\n",
      "21\n",
      "22\n",
      "23\n"
     ]
    }
   ],
   "source": [
    "for i in np.nditer(arr12):\n",
    "    print(i)"
   ]
  },
  {
   "cell_type": "code",
   "execution_count": 68,
   "id": "ce3737eb-4b57-4292-b5b6-656639daf041",
   "metadata": {},
   "outputs": [
    {
     "data": {
      "text/plain": [
       "array([-5, -5, -5, -5, -5])"
      ]
     },
     "execution_count": 68,
     "metadata": {},
     "output_type": "execute_result"
    }
   ],
   "source": [
    "arr1 = np.array([1,2,3,4,5])\n",
    "arr2 = np.array([6,7,8,9,10])\n",
    "arr1 - arr2"
   ]
  },
  {
   "cell_type": "code",
   "execution_count": 69,
   "id": "f33313d4-5429-4154-a09b-73260e61ad79",
   "metadata": {},
   "outputs": [
    {
     "data": {
      "text/plain": [
       "array([ 6, 14, 24, 36, 50])"
      ]
     },
     "execution_count": 69,
     "metadata": {},
     "output_type": "execute_result"
    }
   ],
   "source": [
    "arr1 * arr2"
   ]
  },
  {
   "cell_type": "code",
   "execution_count": 70,
   "id": "0423bc78-e337-4d12-a37b-ea478ca38c8a",
   "metadata": {},
   "outputs": [
    {
     "data": {
      "text/plain": [
       "array([ 2,  4,  6,  8, 10])"
      ]
     },
     "execution_count": 70,
     "metadata": {},
     "output_type": "execute_result"
    }
   ],
   "source": [
    "arr1 *2"
   ]
  },
  {
   "cell_type": "code",
   "execution_count": 71,
   "id": "393a4496-8e04-482d-be68-22f650606e02",
   "metadata": {},
   "outputs": [
    {
     "data": {
      "text/plain": [
       "array([ True,  True,  True,  True,  True])"
      ]
     },
     "execution_count": 71,
     "metadata": {},
     "output_type": "execute_result"
    }
   ],
   "source": [
    "arr2 > 3"
   ]
  },
  {
   "cell_type": "markdown",
   "id": "b45f4a3c-8fe8-4ecd-a958-588299f61ce7",
   "metadata": {},
   "source": [
    "# dot and cross multiplication "
   ]
  },
  {
   "cell_type": "code",
   "execution_count": 72,
   "id": "43ad5e87-82c5-4325-bf3a-3f6d4df521e0",
   "metadata": {},
   "outputs": [
    {
     "data": {
      "text/plain": [
       "array([[  84,   90,   96,  102,  108,  114],\n",
       "       [ 228,  250,  272,  294,  316,  338],\n",
       "       [ 372,  410,  448,  486,  524,  562],\n",
       "       [ 516,  570,  624,  678,  732,  786],\n",
       "       [ 660,  730,  800,  870,  940, 1010],\n",
       "       [ 804,  890,  976, 1062, 1148, 1234]])"
      ]
     },
     "execution_count": 72,
     "metadata": {},
     "output_type": "execute_result"
    }
   ],
   "source": [
    "arr3 = np.arange(24).reshape(6,4)\n",
    "arr4 = np.arange(24).reshape(4,6)\n",
    "arr3.dot(arr4)"
   ]
  },
  {
   "cell_type": "code",
   "execution_count": 74,
   "id": "dc5b554a-cd29-4a3e-96fa-c5015b0be4ee",
   "metadata": {},
   "outputs": [
    {
     "data": {
      "text/plain": [
       "23"
      ]
     },
     "execution_count": 74,
     "metadata": {},
     "output_type": "execute_result"
    }
   ],
   "source": [
    "arr3.max()"
   ]
  },
  {
   "cell_type": "code",
   "execution_count": 75,
   "id": "9a8afaca-459b-45ff-a717-d1f6eebd6464",
   "metadata": {},
   "outputs": [
    {
     "data": {
      "text/plain": [
       "0"
      ]
     },
     "execution_count": 75,
     "metadata": {},
     "output_type": "execute_result"
    }
   ],
   "source": [
    "arr3.min()"
   ]
  },
  {
   "cell_type": "code",
   "execution_count": 78,
   "id": "45a827bd-5145-4dec-a6ab-400e10113ee3",
   "metadata": {},
   "outputs": [
    {
     "data": {
      "text/plain": [
       "11.5"
      ]
     },
     "execution_count": 78,
     "metadata": {},
     "output_type": "execute_result"
    }
   ],
   "source": [
    "arr3.mean()"
   ]
  },
  {
   "cell_type": "code",
   "execution_count": 79,
   "id": "ba976dcb-0693-43b6-a6f8-f3f73f55da05",
   "metadata": {},
   "outputs": [
    {
     "data": {
      "text/plain": [
       "6.922186552431729"
      ]
     },
     "execution_count": 79,
     "metadata": {},
     "output_type": "execute_result"
    }
   ],
   "source": [
    "arr3.std()"
   ]
  },
  {
   "cell_type": "code",
   "execution_count": 80,
   "id": "68b76f83-959d-4f2c-97b2-627495dc6cf5",
   "metadata": {},
   "outputs": [
    {
     "data": {
      "text/plain": [
       "array([[ 0.        ,  0.84147098,  0.90929743,  0.14112001],\n",
       "       [-0.7568025 , -0.95892427, -0.2794155 ,  0.6569866 ],\n",
       "       [ 0.98935825,  0.41211849, -0.54402111, -0.99999021],\n",
       "       [-0.53657292,  0.42016704,  0.99060736,  0.65028784],\n",
       "       [-0.28790332, -0.96139749, -0.75098725,  0.14987721],\n",
       "       [ 0.91294525,  0.83665564, -0.00885131, -0.8462204 ]])"
      ]
     },
     "execution_count": 80,
     "metadata": {},
     "output_type": "execute_result"
    }
   ],
   "source": [
    "np.sin(arr3)"
   ]
  },
  {
   "cell_type": "code",
   "execution_count": 82,
   "id": "49bc687b-a93d-440b-9307-c5408f70f0b6",
   "metadata": {},
   "outputs": [
    {
     "data": {
      "text/plain": [
       "11.5"
      ]
     },
     "execution_count": 82,
     "metadata": {},
     "output_type": "execute_result"
    }
   ],
   "source": [
    "np.median(arr3)"
   ]
  },
  {
   "cell_type": "markdown",
   "id": "72f304f3-6e75-4906-a6c4-784ff4a88d73",
   "metadata": {},
   "source": [
    "# reshaping numpy arrays"
   ]
  },
  {
   "cell_type": "code",
   "execution_count": 83,
   "id": "05b6b497-c180-4098-8524-cce0e9353881",
   "metadata": {},
   "outputs": [
    {
     "data": {
      "text/plain": [
       "2"
      ]
     },
     "execution_count": 83,
     "metadata": {},
     "output_type": "execute_result"
    }
   ],
   "source": [
    "arr4.ndim"
   ]
  },
  {
   "cell_type": "code",
   "execution_count": 84,
   "id": "4a9e784b-2cf0-47a2-8a30-00d258f9189e",
   "metadata": {},
   "outputs": [
    {
     "data": {
      "text/plain": [
       "array([ 0,  1,  2,  3,  4,  5,  6,  7,  8,  9, 10, 11, 12, 13, 14, 15, 16,\n",
       "       17, 18, 19, 20, 21, 22, 23])"
      ]
     },
     "execution_count": 84,
     "metadata": {},
     "output_type": "execute_result"
    }
   ],
   "source": [
    "arr4.ravel()\n",
    "# all elements will come in 1-D"
   ]
  },
  {
   "cell_type": "code",
   "execution_count": 85,
   "id": "e9620a2d-d497-404c-8bdb-75799b064e8c",
   "metadata": {},
   "outputs": [
    {
     "data": {
      "text/plain": [
       "array([[ 0,  6, 12, 18],\n",
       "       [ 1,  7, 13, 19],\n",
       "       [ 2,  8, 14, 20],\n",
       "       [ 3,  9, 15, 21],\n",
       "       [ 4, 10, 16, 22],\n",
       "       [ 5, 11, 17, 23]])"
      ]
     },
     "execution_count": 85,
     "metadata": {},
     "output_type": "execute_result"
    }
   ],
   "source": [
    "arr4.transpose()"
   ]
  },
  {
   "cell_type": "code",
   "execution_count": 86,
   "id": "3ea75279-355f-4639-9031-80f3476a1f85",
   "metadata": {},
   "outputs": [
    {
     "data": {
      "text/plain": [
       "array([[ 0,  1,  2,  3],\n",
       "       [ 4,  5,  6,  7],\n",
       "       [ 8,  9, 10, 11],\n",
       "       [12, 13, 14, 15],\n",
       "       [16, 17, 18, 19],\n",
       "       [20, 21, 22, 23]])"
      ]
     },
     "execution_count": 86,
     "metadata": {},
     "output_type": "execute_result"
    }
   ],
   "source": [
    "arr3"
   ]
  },
  {
   "cell_type": "code",
   "execution_count": 87,
   "id": "a2c99924-3542-4318-bce4-39cd4943de80",
   "metadata": {},
   "outputs": [
    {
     "data": {
      "text/plain": [
       "array([[ 0,  1,  2,  3,  4,  5],\n",
       "       [ 6,  7,  8,  9, 10, 11],\n",
       "       [12, 13, 14, 15, 16, 17],\n",
       "       [18, 19, 20, 21, 22, 23]])"
      ]
     },
     "execution_count": 87,
     "metadata": {},
     "output_type": "execute_result"
    }
   ],
   "source": [
    "arr4"
   ]
  },
  {
   "cell_type": "code",
   "execution_count": 88,
   "id": "4981f090-b2e2-408a-abea-68c116b6c980",
   "metadata": {},
   "outputs": [],
   "source": [
    "arr1 = np.arange(12,18).reshape(2,3)"
   ]
  },
  {
   "cell_type": "code",
   "execution_count": 89,
   "id": "bee89386-3626-458c-81cf-a617a93693ff",
   "metadata": {},
   "outputs": [],
   "source": [
    "arr2 = np.arange(18,24).reshape(2,3)"
   ]
  },
  {
   "cell_type": "code",
   "execution_count": 90,
   "id": "a5e65008-4fe2-404f-9f7a-367da896edc5",
   "metadata": {},
   "outputs": [
    {
     "data": {
      "text/plain": [
       "array([[12, 13, 14, 18, 19, 20],\n",
       "       [15, 16, 17, 21, 22, 23]])"
      ]
     },
     "execution_count": 90,
     "metadata": {},
     "output_type": "execute_result"
    }
   ],
   "source": [
    "np.hstack((arr1,arr2))\n",
    "# stack will add two arrays "
   ]
  },
  {
   "cell_type": "code",
   "execution_count": 91,
   "id": "080a0ed3-8a8b-4723-a350-ef317e074bde",
   "metadata": {},
   "outputs": [
    {
     "data": {
      "text/plain": [
       "array([[12, 13, 14],\n",
       "       [15, 16, 17],\n",
       "       [18, 19, 20],\n",
       "       [21, 22, 23]])"
      ]
     },
     "execution_count": 91,
     "metadata": {},
     "output_type": "execute_result"
    }
   ],
   "source": [
    "np.vstack((arr1,arr2))"
   ]
  },
  {
   "cell_type": "code",
   "execution_count": 100,
   "id": "135daa52-98e7-4153-886a-c956e00c0bd1",
   "metadata": {},
   "outputs": [
    {
     "data": {
      "text/plain": [
       "[array([[12],\n",
       "        [15]]),\n",
       " array([[13],\n",
       "        [16]]),\n",
       " array([[14],\n",
       "        [17]])]"
      ]
     },
     "execution_count": 100,
     "metadata": {},
     "output_type": "execute_result"
    }
   ],
   "source": [
    "np.hsplit(arr1,3)"
   ]
  },
  {
   "cell_type": "code",
   "execution_count": 98,
   "id": "0322568a-24c5-4332-81a2-3d9382321c7f",
   "metadata": {},
   "outputs": [
    {
     "data": {
      "text/plain": [
       "[array([[12, 13, 14]]), array([[15, 16, 17]])]"
      ]
     },
     "execution_count": 98,
     "metadata": {},
     "output_type": "execute_result"
    }
   ],
   "source": [
    "np.vsplit(arr1,2)"
   ]
  },
  {
   "cell_type": "markdown",
   "id": "361b9b73-4707-4e26-b02a-de16c3ac2819",
   "metadata": {},
   "source": [
    "# fancy indexing"
   ]
  },
  {
   "cell_type": "code",
   "execution_count": 101,
   "id": "d75d26b7-c155-495f-b14c-3eaddb193c72",
   "metadata": {},
   "outputs": [],
   "source": [
    "arr8 = np.arange(24).reshape(6,4)"
   ]
  },
  {
   "cell_type": "code",
   "execution_count": 102,
   "id": "b4865edf-651e-4f07-a2b9-ade1893599e6",
   "metadata": {},
   "outputs": [
    {
     "data": {
      "text/plain": [
       "array([[ 0,  1,  2,  3],\n",
       "       [ 8,  9, 10, 11],\n",
       "       [16, 17, 18, 19]])"
      ]
     },
     "execution_count": 102,
     "metadata": {},
     "output_type": "execute_result"
    }
   ],
   "source": [
    "arr8[[0,2,4]]"
   ]
  },
  {
   "cell_type": "markdown",
   "id": "15e8b481-b6be-481a-9e35-5fbdf0fa10f9",
   "metadata": {},
   "source": [
    "# indexing with boolean arrays"
   ]
  },
  {
   "cell_type": "code",
   "execution_count": 104,
   "id": "3fe18b55-bbed-4f63-a059-0c62737669f2",
   "metadata": {},
   "outputs": [
    {
     "data": {
      "text/plain": [
       "array([[79, 17, 92, 99],\n",
       "       [ 1, 33, 82, 85],\n",
       "       [53, 39, 22,  2],\n",
       "       [77, 84, 49,  8],\n",
       "       [24,  3, 20, 42]])"
      ]
     },
     "execution_count": 104,
     "metadata": {},
     "output_type": "execute_result"
    }
   ],
   "source": [
    "arr = np.random.randint(low=1, high=100, size=20).reshape(5,4)\n",
    "arr"
   ]
  },
  {
   "cell_type": "code",
   "execution_count": 106,
   "id": "864d8566-5ca5-4067-92e7-a9a9c89d8a04",
   "metadata": {},
   "outputs": [
    {
     "data": {
      "text/plain": [
       "array([79, 92, 99, 82, 85, 53, 77, 84])"
      ]
     },
     "execution_count": 106,
     "metadata": {},
     "output_type": "execute_result"
    }
   ],
   "source": [
    "arr[arr>50]\n",
    "# indesing using boolean arrays"
   ]
  },
  {
   "cell_type": "code",
   "execution_count": 108,
   "id": "fe21117b-f373-4acd-84cc-802e819cf5c9",
   "metadata": {},
   "outputs": [
    {
     "data": {
      "text/plain": [
       "array([79, 99, 85, 53, 77])"
      ]
     },
     "execution_count": 108,
     "metadata": {},
     "output_type": "execute_result"
    }
   ],
   "source": [
    "arr[(arr>50) & (arr%2 != 0)]"
   ]
  },
  {
   "cell_type": "code",
   "execution_count": 109,
   "id": "5e976e3f-1804-4ec7-a5b8-0fbea5be9745",
   "metadata": {},
   "outputs": [],
   "source": [
    "arr[(arr>50) & (arr%2 != 0)] = 0"
   ]
  },
  {
   "cell_type": "code",
   "execution_count": 110,
   "id": "0ab5dbb0-15ca-48eb-a8e5-2c352a6e44bb",
   "metadata": {},
   "outputs": [
    {
     "data": {
      "text/plain": [
       "array([[ 0, 17, 92,  0],\n",
       "       [ 1, 33, 82,  0],\n",
       "       [ 0, 39, 22,  2],\n",
       "       [ 0, 84, 49,  8],\n",
       "       [24,  3, 20, 42]])"
      ]
     },
     "execution_count": 110,
     "metadata": {},
     "output_type": "execute_result"
    }
   ],
   "source": [
    "arr"
   ]
  },
  {
   "cell_type": "markdown",
   "id": "04536c5b-f43d-4e74-801c-9626b3c7a394",
   "metadata": {},
   "source": [
    "# ploting graphs using numpy"
   ]
  },
  {
   "cell_type": "code",
   "execution_count": 112,
   "id": "a39e0967-ef4d-4702-ac34-af729734ff54",
   "metadata": {},
   "outputs": [
    {
     "data": {
      "text/plain": [
       "array([-100.        ,  -97.97979798,  -95.95959596,  -93.93939394,\n",
       "        -91.91919192,  -89.8989899 ,  -87.87878788,  -85.85858586,\n",
       "        -83.83838384,  -81.81818182,  -79.7979798 ,  -77.77777778,\n",
       "        -75.75757576,  -73.73737374,  -71.71717172,  -69.6969697 ,\n",
       "        -67.67676768,  -65.65656566,  -63.63636364,  -61.61616162,\n",
       "        -59.5959596 ,  -57.57575758,  -55.55555556,  -53.53535354,\n",
       "        -51.51515152,  -49.49494949,  -47.47474747,  -45.45454545,\n",
       "        -43.43434343,  -41.41414141,  -39.39393939,  -37.37373737,\n",
       "        -35.35353535,  -33.33333333,  -31.31313131,  -29.29292929,\n",
       "        -27.27272727,  -25.25252525,  -23.23232323,  -21.21212121,\n",
       "        -19.19191919,  -17.17171717,  -15.15151515,  -13.13131313,\n",
       "        -11.11111111,   -9.09090909,   -7.07070707,   -5.05050505,\n",
       "         -3.03030303,   -1.01010101,    1.01010101,    3.03030303,\n",
       "          5.05050505,    7.07070707,    9.09090909,   11.11111111,\n",
       "         13.13131313,   15.15151515,   17.17171717,   19.19191919,\n",
       "         21.21212121,   23.23232323,   25.25252525,   27.27272727,\n",
       "         29.29292929,   31.31313131,   33.33333333,   35.35353535,\n",
       "         37.37373737,   39.39393939,   41.41414141,   43.43434343,\n",
       "         45.45454545,   47.47474747,   49.49494949,   51.51515152,\n",
       "         53.53535354,   55.55555556,   57.57575758,   59.5959596 ,\n",
       "         61.61616162,   63.63636364,   65.65656566,   67.67676768,\n",
       "         69.6969697 ,   71.71717172,   73.73737374,   75.75757576,\n",
       "         77.77777778,   79.7979798 ,   81.81818182,   83.83838384,\n",
       "         85.85858586,   87.87878788,   89.8989899 ,   91.91919192,\n",
       "         93.93939394,   95.95959596,   97.97979798,  100.        ])"
      ]
     },
     "execution_count": 112,
     "metadata": {},
     "output_type": "execute_result"
    }
   ],
   "source": [
    "x = np.linspace(-100,100,100)\n",
    "x"
   ]
  },
  {
   "cell_type": "code",
   "execution_count": 113,
   "id": "3b7ef78f-fde1-45f1-8156-0233b3cf1b31",
   "metadata": {},
   "outputs": [
    {
     "data": {
      "text/plain": [
       "100"
      ]
     },
     "execution_count": 113,
     "metadata": {},
     "output_type": "execute_result"
    }
   ],
   "source": [
    "x.size"
   ]
  },
  {
   "cell_type": "code",
   "execution_count": 114,
   "id": "a8117eb4-c7d2-4f13-bc2c-28f1adb8ca72",
   "metadata": {},
   "outputs": [
    {
     "data": {
      "text/plain": [
       "100"
      ]
     },
     "execution_count": 114,
     "metadata": {},
     "output_type": "execute_result"
    }
   ],
   "source": [
    "y=np.sin(x)\n",
    "y.size"
   ]
  },
  {
   "cell_type": "code",
   "execution_count": 115,
   "id": "a143bd81-4a42-4c9f-b429-587050a17e3d",
   "metadata": {},
   "outputs": [],
   "source": [
    "import matplotlib.pyplot as plt    "
   ]
  },
  {
   "cell_type": "code",
   "execution_count": 116,
   "id": "73b40f4a-7aa0-4ab5-9031-feece6826b2b",
   "metadata": {},
   "outputs": [],
   "source": [
    "%matplotlib inline"
   ]
  },
  {
   "cell_type": "code",
   "execution_count": 117,
   "id": "6601127c-7d88-4128-8cca-8cf303b39096",
   "metadata": {},
   "outputs": [
    {
     "data": {
      "text/plain": [
       "[<matplotlib.lines.Line2D at 0x29856a8d6a0>]"
      ]
     },
     "execution_count": 117,
     "metadata": {},
     "output_type": "execute_result"
    },
    {
     "data": {
      "image/png": "[encoded data removed]",
      "text/plain": [
       "<Figure size 640x480 with 1 Axes>"
      ]
     },
     "metadata": {},
     "output_type": "display_data"
    }
   ],
   "source": [
    "plt.plot(x,y)"
   ]
  },
  {
   "cell_type": "code",
   "execution_count": 118,
   "id": "db0686df-01cc-4e14-b619-eebe2b4ad636",
   "metadata": {},
   "outputs": [],
   "source": [
    "y = x*x+2*x+6"
   ]
  },
  {
   "cell_type": "code",
   "execution_count": 119,
   "id": "867162c0-aadc-4312-878f-3637bede7e04",
   "metadata": {},
   "outputs": [
    {
     "data": {
      "text/plain": [
       "[<matplotlib.lines.Line2D at 0x29856ac4680>]"
      ]
     },
     "execution_count": 119,
     "metadata": {},
     "output_type": "execute_result"
    },
    {
     "data": {
      "image/png": "[encoded data removed]",
      "text/plain": [
       "<Figure size 640x480 with 1 Axes>"
      ]
     },
     "metadata": {},
     "output_type": "display_data"
    }
   ],
   "source": [
    "plt.plot(x,y)"
   ]
  },
  {
   "cell_type": "markdown",
   "id": "4bab38b4-ac7e-4ce4-b7c8-332d1f75cddc",
   "metadata": {},
   "source": [
    "# broadcasting"
   ]
  },
  {
   "cell_type": "code",
   "execution_count": 121,
   "id": "08099450-5cd9-4af4-aa26-3e85e579a223",
   "metadata": {},
   "outputs": [
    {
     "name": "stdout",
     "output_type": "stream",
     "text": [
      "[[0 1 2]]\n",
      "[[ 0  1  2]\n",
      " [ 3  4  5]\n",
      " [ 6  7  8]\n",
      " [ 9 10 11]]\n"
     ]
    }
   ],
   "source": [
    "a1 = np.arange(3).reshape(1,3)\n",
    "a2 = np.arange(12).reshape(4,3)\n",
    "print(a1)\n",
    "print(a2)"
   ]
  },
  {
   "cell_type": "code",
   "execution_count": 122,
   "id": "91a9c7a3-ec6c-4183-9a84-e4db375dd2f7",
   "metadata": {},
   "outputs": [
    {
     "data": {
      "text/plain": [
       "array([[ 0,  2,  4],\n",
       "       [ 3,  5,  7],\n",
       "       [ 6,  8, 10],\n",
       "       [ 9, 11, 13]])"
      ]
     },
     "execution_count": 122,
     "metadata": {},
     "output_type": "execute_result"
    }
   ],
   "source": [
    "a1+a2"
   ]
  },
  {
   "cell_type": "code",
   "execution_count": 123,
   "id": "311137ab-5c63-4f59-b09a-d8946abfe448",
   "metadata": {},
   "outputs": [
    {
     "name": "stdout",
     "output_type": "stream",
     "text": [
      "[[0 1 2]]\n",
      "[[ 0  1  2  3]\n",
      " [ 4  5  6  7]\n",
      " [ 8  9 10 11]\n",
      " [12 13 14 15]]\n"
     ]
    }
   ],
   "source": [
    "a3 = np.arange(3).reshape(1,3)\n",
    "a4 = np.arange(16).reshape(4,4)\n",
    "print(a3)\n",
    "print(a4)\n",
    "# this operation will not going to perform"
   ]
  },
  {
   "cell_type": "code",
   "execution_count": 124,
   "id": "95c4f89e-0314-4f70-afbe-b86fce5a6217",
   "metadata": {},
   "outputs": [
    {
     "ename": "ValueError",
     "evalue": "operands could not be broadcast together with shapes (1,3) (4,4) ",
     "output_type": "error",
     "traceback": [
      "\u001b[1;31m---------------------------------------------------------------------------\u001b[0m",
      "\u001b[1;31mValueError\u001b[0m                                Traceback (most recent call last)",
      "Cell \u001b[1;32mIn[124], line 1\u001b[0m\n\u001b[1;32m----> 1\u001b[0m \u001b[43ma3\u001b[49m\u001b[38;5;241;43m+\u001b[39;49m\u001b[43ma4\u001b[49m\n",
      "\u001b[1;31mValueError\u001b[0m: operands could not be broadcast together with shapes (1,3) (4,4) "
     ]
    }
   ],
   "source": [
    "a3+a4"
   ]
  },
  {
   "cell_type": "code",
   "execution_count": 126,
   "id": "3302f81c-65f9-41c8-a10e-a082dc535fda",
   "metadata": {},
   "outputs": [
    {
     "name": "stdout",
     "output_type": "stream",
     "text": [
      "[[0]]\n",
      "[[ 0  1  2  3]\n",
      " [ 4  5  6  7]\n",
      " [ 8  9 10 11]\n",
      " [12 13 14 15]\n",
      " [16 17 18 19]\n",
      " [20 21 22 23]\n",
      " [24 25 26 27]\n",
      " [28 29 30 31]\n",
      " [32 33 34 35]\n",
      " [36 37 38 39]]\n"
     ]
    }
   ],
   "source": [
    "a5 = np.arange(1).reshape(1,1)\n",
    "a6 = np.arange(40).reshape(10,4)\n",
    "print(a5)\n",
    "print(a6)"
   ]
  },
  {
   "cell_type": "code",
   "execution_count": null,
   "id": "86fa1c7f-b020-49ce-b2b9-09bb1554e51d",
   "metadata": {},
   "outputs": [],
   "source": [
    "a5+a6\n"
   ]
  }
 ],
 "metadata": {
  "kernelspec": {
   "display_name": "Python 3 (ipykernel)",
   "language": "python",
   "name": "python3"
  },
  "language_info": {
   "codemirror_mode": {
    "name": "ipython",
    "version": 3
   },
   "file_extension": ".py",
   "mimetype": "text/x-python",
   "name": "python",
   "nbconvert_exporter": "python",
   "pygments_lexer": "ipython3",
   "version": "3.12.2"
  }
 },
 "nbformat": 4,
 "nbformat_minor": 5
}
